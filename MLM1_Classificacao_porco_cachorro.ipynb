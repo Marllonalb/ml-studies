{
  "nbformat": 4,
  "nbformat_minor": 0,
  "metadata": {
    "colab": {
      "provenance": [],
      "authorship_tag": "ABX9TyP3jpBPXBW8424uQW670Kd5",
      "include_colab_link": true
    },
    "kernelspec": {
      "name": "python3",
      "display_name": "Python 3"
    },
    "language_info": {
      "name": "python"
    }
  },
  "cells": [
    {
      "cell_type": "markdown",
      "metadata": {
        "id": "view-in-github",
        "colab_type": "text"
      },
      "source": [
        "<a href=\"https://colab.research.google.com/github/Marllonalb/ml-studies/blob/main/MLM1_Classificacao_porco_cachorro.ipynb\" target=\"_parent\"><img src=\"https://colab.research.google.com/assets/colab-badge.svg\" alt=\"Open In Colab\"/></a>"
      ]
    },
    {
      "cell_type": "code",
      "execution_count": 3,
      "metadata": {
        "id": "QTudD5pWb_d8"
      },
      "outputs": [],
      "source": [
        "porco1 = [0,1,1]\n",
        "porco2 = [0,1,0]\n",
        "porco3 = [1,1,0]\n",
        "\n",
        "cachorro1 = [0,1,1]\n",
        "cachorro2 = [1,0,1]\n",
        "cachorro3 = [1,1,1]\n",
        "\n",
        "dados = [porco1, porco2, porco3, cachorro1, cachorro2, cachorro3]\n",
        "\n",
        "classe = [1,1,1,0,0,0]"
      ]
    },
    {
      "cell_type": "code",
      "source": [
        "from sklearn.svm import LinearSVC\n",
        "\n",
        "modelo = LinearSVC()\n",
        "modelo.fit(dados, classe)\n",
        "\n",
        "animal_misterioso = [0,0,0]\n",
        "\n",
        "modelo.predict([animal_misterioso])"
      ],
      "metadata": {
        "colab": {
          "base_uri": "https://localhost:8080/"
        },
        "id": "FfVIOhAMjQgJ",
        "outputId": "f924c1f9-b96c-48ae-d2d7-ea4c0fa01ac7"
      },
      "execution_count": 5,
      "outputs": [
        {
          "output_type": "execute_result",
          "data": {
            "text/plain": [
              "array([1])"
            ]
          },
          "metadata": {},
          "execution_count": 5
        }
      ]
    },
    {
      "cell_type": "code",
      "source": [
        "misterio1 = [1, 1, 1]\n",
        "misterio2 = [1, 1, 0]\n",
        "misterio3 = [0, 1, 1]\n",
        "\n",
        "testes = [misterio1, misterio2, misterio3]\n",
        "previsoes = modelo.predict(testes)\n",
        "testes_classes = [0, 1, 1]\n",
        "\n",
        "print('Resultado da previsão: ',previsoes)\n",
        "print('Resultado do teste: ',testes)\n",
        "print('Valores da supervisão: ',testes_classes)\n",
        "\n",
        "corretos = (previsoes == testes_classes).sum()\n",
        "print('Quantidade de acertos: ',corretos)\n",
        "\n",
        "total = len(testes)\n"
      ],
      "metadata": {
        "colab": {
          "base_uri": "https://localhost:8080/"
        },
        "id": "W4dgjNa5kipi",
        "outputId": "bb1b521f-80ae-4fff-bd96-2fe9f3c59ea7"
      },
      "execution_count": 14,
      "outputs": [
        {
          "output_type": "stream",
          "name": "stdout",
          "text": [
            "Previsão:  [0 1 0]\n",
            "Teste:  [[1, 1, 1], [1, 1, 0], [0, 1, 1]]\n",
            "Teste_supervisão:  [0, 1, 1]\n",
            "2\n"
          ]
        }
      ]
    },
    {
      "cell_type": "code",
      "source": [
        "taxa_de_acerto = corretos / total * 100\n",
        "print(taxa_de_acerto)"
      ],
      "metadata": {
        "colab": {
          "base_uri": "https://localhost:8080/"
        },
        "id": "jxxiakcVk5li",
        "outputId": "e40b8fc7-0c01-473e-f3ca-a2c71b298e86"
      },
      "execution_count": 16,
      "outputs": [
        {
          "output_type": "stream",
          "name": "stdout",
          "text": [
            "66.66666666666666\n"
          ]
        }
      ]
    }
  ]
}