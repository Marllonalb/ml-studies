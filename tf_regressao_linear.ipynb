{
 "cells": [
  {
   "cell_type": "code",
   "execution_count": 140,
   "id": "c745d78c",
   "metadata": {},
   "outputs": [],
   "source": [
    "import numpy as np\n",
    "X = np.array([[18], [23], [28], [33], [38], [43], [48], [53], [58], [63]])\n",
    "Y = np.array([[871], [1132], [1042], [1356], [1488], [1638], [1569], [1754], [1866], [1900]])"
   ]
  },
  {
   "cell_type": "code",
   "execution_count": 141,
   "id": "4b54fea1",
   "metadata": {},
   "outputs": [
    {
     "data": {
      "text/plain": [
       "array([[18],\n",
       "       [23],\n",
       "       [28],\n",
       "       [33],\n",
       "       [38],\n",
       "       [43],\n",
       "       [48],\n",
       "       [53],\n",
       "       [58],\n",
       "       [63]])"
      ]
     },
     "execution_count": 141,
     "metadata": {},
     "output_type": "execute_result"
    }
   ],
   "source": [
    "X"
   ]
  },
  {
   "cell_type": "code",
   "execution_count": 142,
   "id": "2c379510",
   "metadata": {},
   "outputs": [
    {
     "data": {
      "text/plain": [
       "array([[ 871],\n",
       "       [1132],\n",
       "       [1042],\n",
       "       [1356],\n",
       "       [1488],\n",
       "       [1638],\n",
       "       [1569],\n",
       "       [1754],\n",
       "       [1866],\n",
       "       [1900]])"
      ]
     },
     "execution_count": 142,
     "metadata": {},
     "output_type": "execute_result"
    }
   ],
   "source": [
    "Y"
   ]
  },
  {
   "cell_type": "code",
   "execution_count": 143,
   "id": "8d872122",
   "metadata": {},
   "outputs": [],
   "source": [
    "from sklearn.preprocessing import StandardScaler\n",
    "scaler_x = StandardScaler() \n",
    "X = scaler_x.fit_transform(X)"
   ]
  },
  {
   "cell_type": "code",
   "execution_count": 144,
   "id": "e45535bc",
   "metadata": {},
   "outputs": [
    {
     "data": {
      "text/plain": [
       "array([[-1.5666989 ],\n",
       "       [-1.21854359],\n",
       "       [-0.87038828],\n",
       "       [-0.52223297],\n",
       "       [-0.17407766],\n",
       "       [ 0.17407766],\n",
       "       [ 0.52223297],\n",
       "       [ 0.87038828],\n",
       "       [ 1.21854359],\n",
       "       [ 1.5666989 ]])"
      ]
     },
     "execution_count": 144,
     "metadata": {},
     "output_type": "execute_result"
    }
   ],
   "source": [
    "X"
   ]
  },
  {
   "cell_type": "code",
   "execution_count": 145,
   "id": "cf5f336a",
   "metadata": {},
   "outputs": [
    {
     "data": {
      "text/plain": [
       "array([[-1.75751985],\n",
       "       [-0.98083058],\n",
       "       [-1.24865447],\n",
       "       [-0.31424669],\n",
       "       [ 0.07856167],\n",
       "       [ 0.52493481],\n",
       "       [ 0.31960317],\n",
       "       [ 0.87013004],\n",
       "       [ 1.20342199],\n",
       "       [ 1.3045999 ]])"
      ]
     },
     "execution_count": 145,
     "metadata": {},
     "output_type": "execute_result"
    }
   ],
   "source": [
    "scaler_y = StandardScaler()\n",
    "Y = scaler_y.fit_transform(Y)\n",
    "Y  "
   ]
  },
  {
   "cell_type": "code",
   "execution_count": 146,
   "id": "55b58056",
   "metadata": {},
   "outputs": [
    {
     "data": {
      "text/plain": [
       "<matplotlib.collections.PathCollection at 0x21d8e7d5e80>"
      ]
     },
     "execution_count": 146,
     "metadata": {},
     "output_type": "execute_result"
    },
    {
     "data": {
      "image/png": "[encoded data removed]",
      "text/plain": [
       "<Figure size 432x288 with 1 Axes>"
      ]
     },
     "metadata": {
      "needs_background": "light"
     },
     "output_type": "display_data"
    }
   ],
   "source": [
    "import matplotlib.pyplot as plt \n",
    "%matplotlib inline \n",
    "plt.scatter(X, Y)"
   ]
  },
  {
   "cell_type": "code",
   "execution_count": 147,
   "id": "d5103cad",
   "metadata": {},
   "outputs": [
    {
     "data": {
      "text/plain": [
       "array([0.5488135 , 0.71518937])"
      ]
     },
     "execution_count": 147,
     "metadata": {},
     "output_type": "execute_result"
    }
   ],
   "source": [
    "np.random.seed(0)\n",
    "np.random.rand(2)"
   ]
  },
  {
   "cell_type": "code",
   "execution_count": 148,
   "id": "ef3aa44a",
   "metadata": {},
   "outputs": [],
   "source": [
    "import tensorflow as tf"
   ]
  },
  {
   "cell_type": "code",
   "execution_count": 149,
   "id": "cdf417d9",
   "metadata": {},
   "outputs": [],
   "source": [
    "b0 = tf.Variable(0.54)\n",
    "b1 = tf.Variable(0.71)"
   ]
  },
  {
   "cell_type": "code",
   "execution_count": 150,
   "id": "6b6f5f60",
   "metadata": {},
   "outputs": [],
   "source": [
    "erro = tf.losses.mean_squared_error(Y, (b0 + b1 * X))"
   ]
  },
  {
   "cell_type": "code",
   "execution_count": 151,
   "id": "1f98948e",
   "metadata": {},
   "outputs": [],
   "source": [
    "otimizador = tf.train.GradientDescentOptimizer(learning_rate= 0.001)"
   ]
  },
  {
   "cell_type": "code",
   "execution_count": 152,
   "id": "240bc57d",
   "metadata": {},
   "outputs": [],
   "source": [
    "treinamento = otimizador.minimize(erro)"
   ]
  },
  {
   "cell_type": "code",
   "execution_count": 153,
   "id": "1a12cc48",
   "metadata": {},
   "outputs": [],
   "source": [
    "init = tf.global_variables_initializer()"
   ]
  },
  {
   "cell_type": "code",
   "execution_count": 154,
   "id": "df8ed755",
   "metadata": {},
   "outputs": [],
   "source": [
    "with tf.Session() as sess:\n",
    "    sess.run(init)\n",
    "    for i in range (1000):\n",
    "        sess.run(treinamento)\n",
    "    b0_final, b1_final = sess.run([b0, b1])"
   ]
  },
  {
   "cell_type": "code",
   "execution_count": 155,
   "id": "1c80d77c",
   "metadata": {},
   "outputs": [
    {
     "data": {
      "text/plain": [
       "0.07293497"
      ]
     },
     "execution_count": 155,
     "metadata": {},
     "output_type": "execute_result"
    }
   ],
   "source": [
    "b0_final"
   ]
  },
  {
   "cell_type": "code",
   "execution_count": 156,
   "id": "84c2e1a1",
   "metadata": {},
   "outputs": [
    {
     "data": {
      "text/plain": [
       "0.9359134"
      ]
     },
     "execution_count": 156,
     "metadata": {},
     "output_type": "execute_result"
    }
   ],
   "source": [
    "b1_final"
   ]
  },
  {
   "cell_type": "code",
   "execution_count": 157,
   "id": "02ce89e9",
   "metadata": {},
   "outputs": [
    {
     "data": {
      "text/plain": [
       "array([[-1.3933595 ],\n",
       "       [-1.06751629],\n",
       "       [-0.74167307],\n",
       "       [-0.41582985],\n",
       "       [-0.08998664],\n",
       "       [ 0.23585658],\n",
       "       [ 0.56169979],\n",
       "       [ 0.88754301],\n",
       "       [ 1.21338623],\n",
       "       [ 1.53922944]])"
      ]
     },
     "execution_count": 157,
     "metadata": {},
     "output_type": "execute_result"
    }
   ],
   "source": [
    "previsoes = b0_final + b1_final * X\n",
    "previsoes"
   ]
  },
  {
   "cell_type": "code",
   "execution_count": 158,
   "id": "645689f0",
   "metadata": {},
   "outputs": [
    {
     "data": {
      "text/plain": [
       "[<matplotlib.lines.Line2D at 0x21d8e7fbe48>]"
      ]
     },
     "execution_count": 158,
     "metadata": {},
     "output_type": "execute_result"
    },
    {
     "data": {
      "image/png": "[encoded data removed]",
      "text/plain": [
       "<Figure size 432x288 with 1 Axes>"
      ]
     },
     "metadata": {
      "needs_background": "light"
     },
     "output_type": "display_data"
    }
   ],
   "source": [
    "plt.plot(X, previsoes, color = 'red')\n",
    "plt.plot(X, Y, 'o')"
   ]
  }
 ],
 "metadata": {
  "kernelspec": {
   "display_name": "teste",
   "language": "python",
   "name": "python3"
  },
  "language_info": {
   "codemirror_mode": {
    "name": "ipython",
    "version": 3
   },
   "file_extension": ".py",
   "mimetype": "text/x-python",
   "name": "python",
   "nbconvert_exporter": "python",
   "pygments_lexer": "ipython3",
   "version": "3.6.13"
  }
 },
 "nbformat": 4,
 "nbformat_minor": 5
}
